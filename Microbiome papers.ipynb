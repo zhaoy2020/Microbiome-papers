{
 "cells": [
  {
   "cell_type": "markdown",
   "id": "a45e18eb",
   "metadata": {},
   "source": [
    "**Table of contents**<a id='toc0_'></a>    \n",
    "- 1. [微生物组研究方法](#toc1_)    \n",
    "  - 1.1. [扩增子](#toc1_1_)    \n",
    "  - 1.2. [宏基因组](#toc1_2_)    \n",
    "- 2. [生态学](#toc2_)    \n",
    "- 3. [医学微生态](#toc3_)    \n",
    "- 4. [动物微生态](#toc4_)    \n",
    "- 5. [植物微生态](#toc5_)    \n",
    "\n",
    "<!-- vscode-jupyter-toc-config\n",
    "\tnumbering=true\n",
    "\tanchor=true\n",
    "\tflat=false\n",
    "\tminLevel=1\n",
    "\tmaxLevel=6\n",
    "\t/vscode-jupyter-toc-config -->\n",
    "<!-- THIS CELL WILL BE REPLACED ON TOC UPDATE. DO NOT WRITE YOUR TEXT IN THIS CELL -->"
   ]
  },
  {
   "cell_type": "markdown",
   "id": "abcaeda1",
   "metadata": {},
   "source": [
    "# 1. <a id='toc1_'></a>[微生物组研究方法](#toc0_)"
   ]
  },
  {
   "cell_type": "markdown",
   "id": "fd372cff",
   "metadata": {},
   "source": [
    "## 1.1. <a id='toc1_1_'></a>[扩增子](#toc0_)"
   ]
  },
  {
   "cell_type": "markdown",
   "id": "844f1b06",
   "metadata": {},
   "source": [
    "- EasyAmplicon: An easy‐to‐use, open‐source, reproducible, and community‐based pipeline for amplicon data analysis in microbiome research"
   ]
  },
  {
   "cell_type": "markdown",
   "id": "34b579af",
   "metadata": {},
   "source": [
    "## 1.2. <a id='toc1_2_'></a>[宏基因组](#toc0_)"
   ]
  },
  {
   "cell_type": "markdown",
   "id": "4d988637",
   "metadata": {},
   "source": [
    "- EasyMetagenome: A user-friendly and flexible pipeline for shotgun metagenomic analysis in microbiome research"
   ]
  },
  {
   "cell_type": "markdown",
   "id": "718efd5d",
   "metadata": {},
   "source": [
    "# 2. <a id='toc2_'></a>[生态学](#toc0_)"
   ]
  },
  {
   "cell_type": "markdown",
   "id": "08e107f5",
   "metadata": {},
   "source": [
    "- Microbial generalists and specialists differently contribute to the community diversity in farmland soils"
   ]
  },
  {
   "cell_type": "markdown",
   "id": "8fe87b21",
   "metadata": {},
   "source": [
    "# 3. <a id='toc3_'></a>[医学微生态](#toc0_)"
   ]
  },
  {
   "cell_type": "markdown",
   "id": "1dde8b0b",
   "metadata": {},
   "source": [
    "- Distinct intestinal microbial signatures linked to accelerated systemic and intestinal biological aging"
   ]
  },
  {
   "cell_type": "markdown",
   "id": "dd2d7424",
   "metadata": {},
   "source": [
    "# 4. <a id='toc4_'></a>[动物微生态](#toc0_)"
   ]
  },
  {
   "cell_type": "markdown",
   "id": "6e3c9ce6",
   "metadata": {},
   "source": [
    "- Clostridium butyricum and carbohydrate active enzymes contribute to the reduced fat deposition in pigs"
   ]
  },
  {
   "cell_type": "markdown",
   "id": "e63bd28a",
   "metadata": {},
   "source": [
    "# 5. <a id='toc5_'></a>[植物微生态](#toc0_)"
   ]
  },
  {
   "cell_type": "markdown",
   "id": "1d088264",
   "metadata": {},
   "source": [
    "- Root microbiota regulates tiller number in rice"
   ]
  }
 ],
 "metadata": {
  "language_info": {
   "name": "python"
  }
 },
 "nbformat": 4,
 "nbformat_minor": 5
}
